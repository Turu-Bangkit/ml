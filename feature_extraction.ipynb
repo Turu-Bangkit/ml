{
 "cells": [
  {
   "cell_type": "code",
   "execution_count": 105,
   "metadata": {},
   "outputs": [],
   "source": [
    "# Import Library\n",
    "%matplotlib inline\n",
    "import numpy as np\n",
    "import pandas as pd\n",
    "from matplotlib import pyplot as plt "
   ]
  },
  {
   "cell_type": "code",
   "execution_count": 106,
   "metadata": {},
   "outputs": [],
   "source": [
    "#Read Dataset, di sini pake yang 2 karena lebih lengkap\n",
    "df = pd.read_csv('sleepdata_2.csv')"
   ]
  },
  {
   "cell_type": "code",
   "execution_count": 107,
   "metadata": {},
   "outputs": [
    {
     "data": {
      "text/html": [
       "<div>\n",
       "<style scoped>\n",
       "    .dataframe tbody tr th:only-of-type {\n",
       "        vertical-align: middle;\n",
       "    }\n",
       "\n",
       "    .dataframe tbody tr th {\n",
       "        vertical-align: top;\n",
       "    }\n",
       "\n",
       "    .dataframe thead th {\n",
       "        text-align: right;\n",
       "    }\n",
       "</style>\n",
       "<table border=\"1\" class=\"dataframe\">\n",
       "  <thead>\n",
       "    <tr style=\"text-align: right;\">\n",
       "      <th></th>\n",
       "      <th>Start</th>\n",
       "      <th>End</th>\n",
       "      <th>Sleep Quality</th>\n",
       "      <th>Regularity</th>\n",
       "      <th>Mood</th>\n",
       "      <th>Heart rate (bpm)</th>\n",
       "      <th>Steps</th>\n",
       "      <th>Alarm mode</th>\n",
       "      <th>Air Pressure (Pa)</th>\n",
       "      <th>City</th>\n",
       "      <th>...</th>\n",
       "      <th>Time in bed (seconds)</th>\n",
       "      <th>Time asleep (seconds)</th>\n",
       "      <th>Time before sleep (seconds)</th>\n",
       "      <th>Window start</th>\n",
       "      <th>Window stop</th>\n",
       "      <th>Did snore</th>\n",
       "      <th>Snore time</th>\n",
       "      <th>Weather temperature (Â°C)</th>\n",
       "      <th>Weather type</th>\n",
       "      <th>Notes</th>\n",
       "    </tr>\n",
       "  </thead>\n",
       "  <tbody>\n",
       "    <tr>\n",
       "      <th>0</th>\n",
       "      <td>5/12/2019 23:26</td>\n",
       "      <td>5/13/2019 6:11</td>\n",
       "      <td>60%</td>\n",
       "      <td>0%</td>\n",
       "      <td>NaN</td>\n",
       "      <td>0</td>\n",
       "      <td>8350</td>\n",
       "      <td>Normal</td>\n",
       "      <td>NaN</td>\n",
       "      <td>NaN</td>\n",
       "      <td>...</td>\n",
       "      <td>24289.2</td>\n",
       "      <td>22993.8</td>\n",
       "      <td>161.9</td>\n",
       "      <td>5/13/2019 6:00</td>\n",
       "      <td>5/13/2019 6:00</td>\n",
       "      <td>True</td>\n",
       "      <td>92.0</td>\n",
       "      <td>0.0</td>\n",
       "      <td>No weather</td>\n",
       "      <td>NaN</td>\n",
       "    </tr>\n",
       "    <tr>\n",
       "      <th>1</th>\n",
       "      <td>5/13/2019 22:10</td>\n",
       "      <td>5/14/2019 6:10</td>\n",
       "      <td>73%</td>\n",
       "      <td>0%</td>\n",
       "      <td>NaN</td>\n",
       "      <td>0</td>\n",
       "      <td>4746</td>\n",
       "      <td>Normal</td>\n",
       "      <td>NaN</td>\n",
       "      <td>NaN</td>\n",
       "      <td>...</td>\n",
       "      <td>28810.2</td>\n",
       "      <td>25160.9</td>\n",
       "      <td>192.1</td>\n",
       "      <td>5/14/2019 5:49</td>\n",
       "      <td>5/14/2019 5:49</td>\n",
       "      <td>True</td>\n",
       "      <td>0.0</td>\n",
       "      <td>0.0</td>\n",
       "      <td>No weather</td>\n",
       "      <td>NaN</td>\n",
       "    </tr>\n",
       "    <tr>\n",
       "      <th>2</th>\n",
       "      <td>5/14/2019 21:43</td>\n",
       "      <td>5/15/2019 6:10</td>\n",
       "      <td>86%</td>\n",
       "      <td>96%</td>\n",
       "      <td>NaN</td>\n",
       "      <td>0</td>\n",
       "      <td>4007</td>\n",
       "      <td>Normal</td>\n",
       "      <td>NaN</td>\n",
       "      <td>NaN</td>\n",
       "      <td>...</td>\n",
       "      <td>30461.5</td>\n",
       "      <td>28430.8</td>\n",
       "      <td>203.1</td>\n",
       "      <td>5/15/2019 5:49</td>\n",
       "      <td>5/15/2019 5:49</td>\n",
       "      <td>True</td>\n",
       "      <td>74.0</td>\n",
       "      <td>0.0</td>\n",
       "      <td>No weather</td>\n",
       "      <td>NaN</td>\n",
       "    </tr>\n",
       "  </tbody>\n",
       "</table>\n",
       "<p>3 rows × 21 columns</p>\n",
       "</div>"
      ],
      "text/plain": [
       "             Start             End Sleep Quality Regularity  Mood  \\\n",
       "0  5/12/2019 23:26  5/13/2019 6:11           60%         0%   NaN   \n",
       "1  5/13/2019 22:10  5/14/2019 6:10           73%         0%   NaN   \n",
       "2  5/14/2019 21:43  5/15/2019 6:10           86%        96%   NaN   \n",
       "\n",
       "   Heart rate (bpm)  Steps Alarm mode  Air Pressure (Pa) City  ...  \\\n",
       "0                 0   8350     Normal                NaN  NaN  ...   \n",
       "1                 0   4746     Normal                NaN  NaN  ...   \n",
       "2                 0   4007     Normal                NaN  NaN  ...   \n",
       "\n",
       "   Time in bed (seconds)  Time asleep (seconds)  Time before sleep (seconds)  \\\n",
       "0                24289.2                22993.8                        161.9   \n",
       "1                28810.2                25160.9                        192.1   \n",
       "2                30461.5                28430.8                        203.1   \n",
       "\n",
       "     Window start     Window stop Did snore  Snore time  \\\n",
       "0  5/13/2019 6:00  5/13/2019 6:00      True        92.0   \n",
       "1  5/14/2019 5:49  5/14/2019 5:49      True         0.0   \n",
       "2  5/15/2019 5:49  5/15/2019 5:49      True        74.0   \n",
       "\n",
       "   Weather temperature (Â°C)  Weather type Notes  \n",
       "0                        0.0    No weather   NaN  \n",
       "1                        0.0    No weather   NaN  \n",
       "2                        0.0    No weather   NaN  \n",
       "\n",
       "[3 rows x 21 columns]"
      ]
     },
     "execution_count": 107,
     "metadata": {},
     "output_type": "execute_result"
    }
   ],
   "source": [
    "df.head(3)"
   ]
  },
  {
   "cell_type": "markdown",
   "metadata": {},
   "source": [
    "### Label Data"
   ]
  },
  {
   "cell_type": "code",
   "execution_count": 108,
   "metadata": {},
   "outputs": [
    {
     "name": "stdout",
     "output_type": "stream",
     "text": [
      "Index(['Start', 'End', 'Sleep Quality', 'Regularity', 'Mood',\n",
      "       'Heart rate (bpm)', 'Steps', 'Alarm mode', 'Air Pressure (Pa)', 'City',\n",
      "       'Movements per hour', 'Time in bed (seconds)', 'Time asleep (seconds)',\n",
      "       'Time before sleep (seconds)', 'Window start', 'Window stop',\n",
      "       'Did snore', 'Snore time', 'Weather temperature (Â°C)', 'Weather type',\n",
      "       'Notes'],\n",
      "      dtype='object')\n"
     ]
    }
   ],
   "source": [
    "print(df.columns)"
   ]
  },
  {
   "cell_type": "markdown",
   "metadata": {},
   "source": [
    "# Data Understanding\n",
    "0. Start : Waktu tidur dimulai\n",
    "1. End : Waktu tidur selesai\n",
    "2. Sleep Quality : Presentase kualitas tidur\n",
    "3. Sleep Regularity : Presentase pattern sleep, semakin tinggi semakin baik (weak positive) 1-((CV(start_time)+CV(End_time))/2)*100\n",
    "4. Mood : Null, bisa diremove\n",
    "5. Heart rate : Null, bisa diremove\n",
    "6. steps : Langkah kaki\n",
    "7. Alarm mode : normal atau tidak ada\n",
    "8. Air pressure : Null, bisa diremove\n",
    "9. City : Null, bisa diremove\n",
    "10. movement/hour : banyaknya gerakan perjam\n",
    "11. Time in bed : waktu di tempat tidur, redundant bisa diremove\n",
    "12. Time asleep : Waktu tidur (bisa menggunakan sleep confidence)\n",
    "13. Time before sleep : waktu sebelum tidur\n",
    "14. window start : unnecessary feature, redundant dengan start. Bisa diremove\n",
    "15. Window stop : unnecessary feature, redundant dengan end. Bisa diremove\n",
    "16. Did snore : ngorok, mostly True. Bisa diremove\n",
    "17. snore time : durasi ngorok. Remove\n",
    "18. Weather Temp : Null, bisa diremove\n",
    "19. Weather type : Null, bisa diremove"
   ]
  },
  {
   "cell_type": "code",
   "execution_count": 109,
   "metadata": {},
   "outputs": [],
   "source": [
    "#rename column\n",
    "df.columns = ['start', 'end', 'quality', 'regularity', 'mood', 'hr', 'steps', 'alarm', 'pa', 'city', 'mph', 'tib', 'ta', 'tbs', 'wst', 'ws', 'ds', 'st', 'wtc', 'wt', 'notes']"
   ]
  },
  {
   "cell_type": "code",
   "execution_count": 110,
   "metadata": {},
   "outputs": [
    {
     "data": {
      "text/html": [
       "<div>\n",
       "<style scoped>\n",
       "    .dataframe tbody tr th:only-of-type {\n",
       "        vertical-align: middle;\n",
       "    }\n",
       "\n",
       "    .dataframe tbody tr th {\n",
       "        vertical-align: top;\n",
       "    }\n",
       "\n",
       "    .dataframe thead th {\n",
       "        text-align: right;\n",
       "    }\n",
       "</style>\n",
       "<table border=\"1\" class=\"dataframe\">\n",
       "  <thead>\n",
       "    <tr style=\"text-align: right;\">\n",
       "      <th></th>\n",
       "      <th>start</th>\n",
       "      <th>end</th>\n",
       "      <th>quality</th>\n",
       "      <th>regularity</th>\n",
       "      <th>mood</th>\n",
       "      <th>hr</th>\n",
       "      <th>steps</th>\n",
       "      <th>alarm</th>\n",
       "      <th>pa</th>\n",
       "      <th>city</th>\n",
       "      <th>...</th>\n",
       "      <th>tib</th>\n",
       "      <th>ta</th>\n",
       "      <th>tbs</th>\n",
       "      <th>wst</th>\n",
       "      <th>ws</th>\n",
       "      <th>ds</th>\n",
       "      <th>st</th>\n",
       "      <th>wtc</th>\n",
       "      <th>wt</th>\n",
       "      <th>notes</th>\n",
       "    </tr>\n",
       "  </thead>\n",
       "  <tbody>\n",
       "    <tr>\n",
       "      <th>0</th>\n",
       "      <td>5/12/2019 23:26</td>\n",
       "      <td>5/13/2019 6:11</td>\n",
       "      <td>60%</td>\n",
       "      <td>0%</td>\n",
       "      <td>NaN</td>\n",
       "      <td>0</td>\n",
       "      <td>8350</td>\n",
       "      <td>Normal</td>\n",
       "      <td>NaN</td>\n",
       "      <td>NaN</td>\n",
       "      <td>...</td>\n",
       "      <td>24289.2</td>\n",
       "      <td>22993.8</td>\n",
       "      <td>161.9</td>\n",
       "      <td>5/13/2019 6:00</td>\n",
       "      <td>5/13/2019 6:00</td>\n",
       "      <td>True</td>\n",
       "      <td>92.0</td>\n",
       "      <td>0.0</td>\n",
       "      <td>No weather</td>\n",
       "      <td>NaN</td>\n",
       "    </tr>\n",
       "    <tr>\n",
       "      <th>1</th>\n",
       "      <td>5/13/2019 22:10</td>\n",
       "      <td>5/14/2019 6:10</td>\n",
       "      <td>73%</td>\n",
       "      <td>0%</td>\n",
       "      <td>NaN</td>\n",
       "      <td>0</td>\n",
       "      <td>4746</td>\n",
       "      <td>Normal</td>\n",
       "      <td>NaN</td>\n",
       "      <td>NaN</td>\n",
       "      <td>...</td>\n",
       "      <td>28810.2</td>\n",
       "      <td>25160.9</td>\n",
       "      <td>192.1</td>\n",
       "      <td>5/14/2019 5:49</td>\n",
       "      <td>5/14/2019 5:49</td>\n",
       "      <td>True</td>\n",
       "      <td>0.0</td>\n",
       "      <td>0.0</td>\n",
       "      <td>No weather</td>\n",
       "      <td>NaN</td>\n",
       "    </tr>\n",
       "    <tr>\n",
       "      <th>2</th>\n",
       "      <td>5/14/2019 21:43</td>\n",
       "      <td>5/15/2019 6:10</td>\n",
       "      <td>86%</td>\n",
       "      <td>96%</td>\n",
       "      <td>NaN</td>\n",
       "      <td>0</td>\n",
       "      <td>4007</td>\n",
       "      <td>Normal</td>\n",
       "      <td>NaN</td>\n",
       "      <td>NaN</td>\n",
       "      <td>...</td>\n",
       "      <td>30461.5</td>\n",
       "      <td>28430.8</td>\n",
       "      <td>203.1</td>\n",
       "      <td>5/15/2019 5:49</td>\n",
       "      <td>5/15/2019 5:49</td>\n",
       "      <td>True</td>\n",
       "      <td>74.0</td>\n",
       "      <td>0.0</td>\n",
       "      <td>No weather</td>\n",
       "      <td>NaN</td>\n",
       "    </tr>\n",
       "  </tbody>\n",
       "</table>\n",
       "<p>3 rows × 21 columns</p>\n",
       "</div>"
      ],
      "text/plain": [
       "             start             end quality regularity  mood  hr  steps  \\\n",
       "0  5/12/2019 23:26  5/13/2019 6:11     60%         0%   NaN   0   8350   \n",
       "1  5/13/2019 22:10  5/14/2019 6:10     73%         0%   NaN   0   4746   \n",
       "2  5/14/2019 21:43  5/15/2019 6:10     86%        96%   NaN   0   4007   \n",
       "\n",
       "    alarm  pa city  ...      tib       ta    tbs             wst  \\\n",
       "0  Normal NaN  NaN  ...  24289.2  22993.8  161.9  5/13/2019 6:00   \n",
       "1  Normal NaN  NaN  ...  28810.2  25160.9  192.1  5/14/2019 5:49   \n",
       "2  Normal NaN  NaN  ...  30461.5  28430.8  203.1  5/15/2019 5:49   \n",
       "\n",
       "               ws    ds    st  wtc          wt notes  \n",
       "0  5/13/2019 6:00  True  92.0  0.0  No weather   NaN  \n",
       "1  5/14/2019 5:49  True   0.0  0.0  No weather   NaN  \n",
       "2  5/15/2019 5:49  True  74.0  0.0  No weather   NaN  \n",
       "\n",
       "[3 rows x 21 columns]"
      ]
     },
     "execution_count": 110,
     "metadata": {},
     "output_type": "execute_result"
    }
   ],
   "source": [
    "df.head(3)"
   ]
  },
  {
   "cell_type": "code",
   "execution_count": 111,
   "metadata": {},
   "outputs": [],
   "source": [
    "df2 = df.drop(['mood', 'hr', 'steps', 'alarm', 'pa', 'city', 'mph', 'tib','wst', 'ws', 'ds', 'st', 'wtc', 'wt', 'notes'], axis=\n",
    "1)"
   ]
  },
  {
   "cell_type": "code",
   "execution_count": 112,
   "metadata": {},
   "outputs": [
    {
     "data": {
      "text/html": [
       "<div>\n",
       "<style scoped>\n",
       "    .dataframe tbody tr th:only-of-type {\n",
       "        vertical-align: middle;\n",
       "    }\n",
       "\n",
       "    .dataframe tbody tr th {\n",
       "        vertical-align: top;\n",
       "    }\n",
       "\n",
       "    .dataframe thead th {\n",
       "        text-align: right;\n",
       "    }\n",
       "</style>\n",
       "<table border=\"1\" class=\"dataframe\">\n",
       "  <thead>\n",
       "    <tr style=\"text-align: right;\">\n",
       "      <th></th>\n",
       "      <th>start</th>\n",
       "      <th>end</th>\n",
       "      <th>quality</th>\n",
       "      <th>regularity</th>\n",
       "      <th>ta</th>\n",
       "      <th>tbs</th>\n",
       "    </tr>\n",
       "  </thead>\n",
       "  <tbody>\n",
       "    <tr>\n",
       "      <th>0</th>\n",
       "      <td>5/12/2019 23:26</td>\n",
       "      <td>5/13/2019 6:11</td>\n",
       "      <td>60%</td>\n",
       "      <td>0%</td>\n",
       "      <td>22993.8</td>\n",
       "      <td>161.9</td>\n",
       "    </tr>\n",
       "    <tr>\n",
       "      <th>1</th>\n",
       "      <td>5/13/2019 22:10</td>\n",
       "      <td>5/14/2019 6:10</td>\n",
       "      <td>73%</td>\n",
       "      <td>0%</td>\n",
       "      <td>25160.9</td>\n",
       "      <td>192.1</td>\n",
       "    </tr>\n",
       "    <tr>\n",
       "      <th>2</th>\n",
       "      <td>5/14/2019 21:43</td>\n",
       "      <td>5/15/2019 6:10</td>\n",
       "      <td>86%</td>\n",
       "      <td>96%</td>\n",
       "      <td>28430.8</td>\n",
       "      <td>203.1</td>\n",
       "    </tr>\n",
       "    <tr>\n",
       "      <th>3</th>\n",
       "      <td>5/15/2019 23:11</td>\n",
       "      <td>5/16/2019 6:13</td>\n",
       "      <td>77%</td>\n",
       "      <td>92%</td>\n",
       "      <td>23132.5</td>\n",
       "      <td>168.9</td>\n",
       "    </tr>\n",
       "    <tr>\n",
       "      <th>4</th>\n",
       "      <td>5/16/2019 23:12</td>\n",
       "      <td>5/17/2019 6:20</td>\n",
       "      <td>78%</td>\n",
       "      <td>94%</td>\n",
       "      <td>22614.6</td>\n",
       "      <td>171.3</td>\n",
       "    </tr>\n",
       "    <tr>\n",
       "      <th>5</th>\n",
       "      <td>5/19/2019 1:25</td>\n",
       "      <td>5/19/2019 8:43</td>\n",
       "      <td>72%</td>\n",
       "      <td>80%</td>\n",
       "      <td>20759.8</td>\n",
       "      <td>175.2</td>\n",
       "    </tr>\n",
       "    <tr>\n",
       "      <th>6</th>\n",
       "      <td>5/20/2019 22:41</td>\n",
       "      <td>5/21/2019 6:22</td>\n",
       "      <td>73%</td>\n",
       "      <td>58%</td>\n",
       "      <td>24565.2</td>\n",
       "      <td>184.7</td>\n",
       "    </tr>\n",
       "    <tr>\n",
       "      <th>7</th>\n",
       "      <td>5/21/2019 22:39</td>\n",
       "      <td>5/22/2019 6:00</td>\n",
       "      <td>78%</td>\n",
       "      <td>77%</td>\n",
       "      <td>22780.4</td>\n",
       "      <td>176.6</td>\n",
       "    </tr>\n",
       "    <tr>\n",
       "      <th>8</th>\n",
       "      <td>5/22/2019 22:36</td>\n",
       "      <td>5/23/2019 6:03</td>\n",
       "      <td>84%</td>\n",
       "      <td>98%</td>\n",
       "      <td>25925.9</td>\n",
       "      <td>178.8</td>\n",
       "    </tr>\n",
       "    <tr>\n",
       "      <th>9</th>\n",
       "      <td>5/23/2019 23:15</td>\n",
       "      <td>5/24/2019 6:33</td>\n",
       "      <td>88%</td>\n",
       "      <td>95%</td>\n",
       "      <td>23761.4</td>\n",
       "      <td>175.4</td>\n",
       "    </tr>\n",
       "  </tbody>\n",
       "</table>\n",
       "</div>"
      ],
      "text/plain": [
       "             start             end quality regularity       ta    tbs\n",
       "0  5/12/2019 23:26  5/13/2019 6:11     60%         0%  22993.8  161.9\n",
       "1  5/13/2019 22:10  5/14/2019 6:10     73%         0%  25160.9  192.1\n",
       "2  5/14/2019 21:43  5/15/2019 6:10     86%        96%  28430.8  203.1\n",
       "3  5/15/2019 23:11  5/16/2019 6:13     77%        92%  23132.5  168.9\n",
       "4  5/16/2019 23:12  5/17/2019 6:20     78%        94%  22614.6  171.3\n",
       "5   5/19/2019 1:25  5/19/2019 8:43     72%        80%  20759.8  175.2\n",
       "6  5/20/2019 22:41  5/21/2019 6:22     73%        58%  24565.2  184.7\n",
       "7  5/21/2019 22:39  5/22/2019 6:00     78%        77%  22780.4  176.6\n",
       "8  5/22/2019 22:36  5/23/2019 6:03     84%        98%  25925.9  178.8\n",
       "9  5/23/2019 23:15  5/24/2019 6:33     88%        95%  23761.4  175.4"
      ]
     },
     "execution_count": 112,
     "metadata": {},
     "output_type": "execute_result"
    }
   ],
   "source": [
    "df2.head(10)"
   ]
  },
  {
   "cell_type": "code",
   "execution_count": 113,
   "metadata": {},
   "outputs": [],
   "source": [
    "#Remove 0 values\n",
    "\n",
    "df2 = df2[df2.regularity != \"0%\"]"
   ]
  },
  {
   "cell_type": "code",
   "execution_count": 114,
   "metadata": {},
   "outputs": [],
   "source": [
    "#strip % and convert to string\n",
    "df2['regularity'] = df2['regularity'].str.rstrip('%').astype(int)\n",
    "df2['quality'] = df2['quality'].str.rstrip('%').astype(int)\n"
   ]
  },
  {
   "cell_type": "code",
   "execution_count": 115,
   "metadata": {},
   "outputs": [
    {
     "data": {
      "text/html": [
       "<div>\n",
       "<style scoped>\n",
       "    .dataframe tbody tr th:only-of-type {\n",
       "        vertical-align: middle;\n",
       "    }\n",
       "\n",
       "    .dataframe tbody tr th {\n",
       "        vertical-align: top;\n",
       "    }\n",
       "\n",
       "    .dataframe thead th {\n",
       "        text-align: right;\n",
       "    }\n",
       "</style>\n",
       "<table border=\"1\" class=\"dataframe\">\n",
       "  <thead>\n",
       "    <tr style=\"text-align: right;\">\n",
       "      <th></th>\n",
       "      <th>start</th>\n",
       "      <th>end</th>\n",
       "      <th>quality</th>\n",
       "      <th>regularity</th>\n",
       "      <th>ta</th>\n",
       "      <th>tbs</th>\n",
       "    </tr>\n",
       "  </thead>\n",
       "  <tbody>\n",
       "    <tr>\n",
       "      <th>2</th>\n",
       "      <td>5/14/2019 21:43</td>\n",
       "      <td>5/15/2019 6:10</td>\n",
       "      <td>86</td>\n",
       "      <td>96</td>\n",
       "      <td>28430.8</td>\n",
       "      <td>203.1</td>\n",
       "    </tr>\n",
       "    <tr>\n",
       "      <th>3</th>\n",
       "      <td>5/15/2019 23:11</td>\n",
       "      <td>5/16/2019 6:13</td>\n",
       "      <td>77</td>\n",
       "      <td>92</td>\n",
       "      <td>23132.5</td>\n",
       "      <td>168.9</td>\n",
       "    </tr>\n",
       "    <tr>\n",
       "      <th>4</th>\n",
       "      <td>5/16/2019 23:12</td>\n",
       "      <td>5/17/2019 6:20</td>\n",
       "      <td>78</td>\n",
       "      <td>94</td>\n",
       "      <td>22614.6</td>\n",
       "      <td>171.3</td>\n",
       "    </tr>\n",
       "    <tr>\n",
       "      <th>5</th>\n",
       "      <td>5/19/2019 1:25</td>\n",
       "      <td>5/19/2019 8:43</td>\n",
       "      <td>72</td>\n",
       "      <td>80</td>\n",
       "      <td>20759.8</td>\n",
       "      <td>175.2</td>\n",
       "    </tr>\n",
       "    <tr>\n",
       "      <th>6</th>\n",
       "      <td>5/20/2019 22:41</td>\n",
       "      <td>5/21/2019 6:22</td>\n",
       "      <td>73</td>\n",
       "      <td>58</td>\n",
       "      <td>24565.2</td>\n",
       "      <td>184.7</td>\n",
       "    </tr>\n",
       "  </tbody>\n",
       "</table>\n",
       "</div>"
      ],
      "text/plain": [
       "             start             end  quality  regularity       ta    tbs\n",
       "2  5/14/2019 21:43  5/15/2019 6:10       86          96  28430.8  203.1\n",
       "3  5/15/2019 23:11  5/16/2019 6:13       77          92  23132.5  168.9\n",
       "4  5/16/2019 23:12  5/17/2019 6:20       78          94  22614.6  171.3\n",
       "5   5/19/2019 1:25  5/19/2019 8:43       72          80  20759.8  175.2\n",
       "6  5/20/2019 22:41  5/21/2019 6:22       73          58  24565.2  184.7"
      ]
     },
     "execution_count": 115,
     "metadata": {},
     "output_type": "execute_result"
    }
   ],
   "source": [
    "df2.head()"
   ]
  },
  {
   "cell_type": "code",
   "execution_count": 116,
   "metadata": {},
   "outputs": [],
   "source": [
    "#strip time data to milli\n",
    "df2['start'] = df2['start']"
   ]
  },
  {
   "cell_type": "code",
   "execution_count": 117,
   "metadata": {},
   "outputs": [],
   "source": [
    "#Kita ubah time series jadi second untuk normalisasi\n",
    "def time_to_seconds(time_str):\n",
    "    hours, minutes = map(int, time_str.split(':'))\n",
    "    total_seconds = hours * 3600 + minutes * 60\n",
    "    return total_seconds\n",
    "df2['start'] = df2['start'].str[-5:]\n",
    "df2['end'] = df2['end'].str[-5:]\n",
    "\n",
    "df2['start'] = df2['start'].apply(time_to_seconds)\n",
    "df2['end'] = df2['end'].apply(time_to_seconds)\n",
    "\n"
   ]
  },
  {
   "cell_type": "code",
   "execution_count": 118,
   "metadata": {},
   "outputs": [
    {
     "data": {
      "text/html": [
       "<div>\n",
       "<style scoped>\n",
       "    .dataframe tbody tr th:only-of-type {\n",
       "        vertical-align: middle;\n",
       "    }\n",
       "\n",
       "    .dataframe tbody tr th {\n",
       "        vertical-align: top;\n",
       "    }\n",
       "\n",
       "    .dataframe thead th {\n",
       "        text-align: right;\n",
       "    }\n",
       "</style>\n",
       "<table border=\"1\" class=\"dataframe\">\n",
       "  <thead>\n",
       "    <tr style=\"text-align: right;\">\n",
       "      <th></th>\n",
       "      <th>start</th>\n",
       "      <th>end</th>\n",
       "      <th>quality</th>\n",
       "      <th>regularity</th>\n",
       "      <th>ta</th>\n",
       "      <th>tbs</th>\n",
       "    </tr>\n",
       "  </thead>\n",
       "  <tbody>\n",
       "    <tr>\n",
       "      <th>2</th>\n",
       "      <td>78180</td>\n",
       "      <td>22200</td>\n",
       "      <td>86</td>\n",
       "      <td>96</td>\n",
       "      <td>28430.8</td>\n",
       "      <td>203.1</td>\n",
       "    </tr>\n",
       "    <tr>\n",
       "      <th>3</th>\n",
       "      <td>83460</td>\n",
       "      <td>22380</td>\n",
       "      <td>77</td>\n",
       "      <td>92</td>\n",
       "      <td>23132.5</td>\n",
       "      <td>168.9</td>\n",
       "    </tr>\n",
       "    <tr>\n",
       "      <th>4</th>\n",
       "      <td>83520</td>\n",
       "      <td>22800</td>\n",
       "      <td>78</td>\n",
       "      <td>94</td>\n",
       "      <td>22614.6</td>\n",
       "      <td>171.3</td>\n",
       "    </tr>\n",
       "    <tr>\n",
       "      <th>5</th>\n",
       "      <td>5100</td>\n",
       "      <td>31380</td>\n",
       "      <td>72</td>\n",
       "      <td>80</td>\n",
       "      <td>20759.8</td>\n",
       "      <td>175.2</td>\n",
       "    </tr>\n",
       "    <tr>\n",
       "      <th>6</th>\n",
       "      <td>81660</td>\n",
       "      <td>22920</td>\n",
       "      <td>73</td>\n",
       "      <td>58</td>\n",
       "      <td>24565.2</td>\n",
       "      <td>184.7</td>\n",
       "    </tr>\n",
       "  </tbody>\n",
       "</table>\n",
       "</div>"
      ],
      "text/plain": [
       "   start    end  quality  regularity       ta    tbs\n",
       "2  78180  22200       86          96  28430.8  203.1\n",
       "3  83460  22380       77          92  23132.5  168.9\n",
       "4  83520  22800       78          94  22614.6  171.3\n",
       "5   5100  31380       72          80  20759.8  175.2\n",
       "6  81660  22920       73          58  24565.2  184.7"
      ]
     },
     "execution_count": 118,
     "metadata": {},
     "output_type": "execute_result"
    }
   ],
   "source": [
    "df2.head(5)"
   ]
  },
  {
   "cell_type": "code",
   "execution_count": 119,
   "metadata": {},
   "outputs": [],
   "source": [
    "#Disini time series tidur malam kita hitung dari jam 6 malam sampai 6 pagi.\n",
    "#Jadi kita normalisasi jika user tidur di atas jam 12 malam\n",
    "\n",
    "df2.loc[df2['start'] < 3600*6, 'start'] = df2.loc[df2['start'] < 3600*6, 'start'] + 3600*24\n"
   ]
  },
  {
   "cell_type": "code",
   "execution_count": 120,
   "metadata": {},
   "outputs": [
    {
     "data": {
      "text/html": [
       "<div>\n",
       "<style scoped>\n",
       "    .dataframe tbody tr th:only-of-type {\n",
       "        vertical-align: middle;\n",
       "    }\n",
       "\n",
       "    .dataframe tbody tr th {\n",
       "        vertical-align: top;\n",
       "    }\n",
       "\n",
       "    .dataframe thead th {\n",
       "        text-align: right;\n",
       "    }\n",
       "</style>\n",
       "<table border=\"1\" class=\"dataframe\">\n",
       "  <thead>\n",
       "    <tr style=\"text-align: right;\">\n",
       "      <th></th>\n",
       "      <th>start</th>\n",
       "      <th>end</th>\n",
       "      <th>quality</th>\n",
       "      <th>regularity</th>\n",
       "      <th>ta</th>\n",
       "      <th>tbs</th>\n",
       "    </tr>\n",
       "  </thead>\n",
       "  <tbody>\n",
       "    <tr>\n",
       "      <th>2</th>\n",
       "      <td>78180</td>\n",
       "      <td>22200</td>\n",
       "      <td>86</td>\n",
       "      <td>96</td>\n",
       "      <td>28430.8</td>\n",
       "      <td>203.1</td>\n",
       "    </tr>\n",
       "    <tr>\n",
       "      <th>3</th>\n",
       "      <td>83460</td>\n",
       "      <td>22380</td>\n",
       "      <td>77</td>\n",
       "      <td>92</td>\n",
       "      <td>23132.5</td>\n",
       "      <td>168.9</td>\n",
       "    </tr>\n",
       "    <tr>\n",
       "      <th>4</th>\n",
       "      <td>83520</td>\n",
       "      <td>22800</td>\n",
       "      <td>78</td>\n",
       "      <td>94</td>\n",
       "      <td>22614.6</td>\n",
       "      <td>171.3</td>\n",
       "    </tr>\n",
       "  </tbody>\n",
       "</table>\n",
       "</div>"
      ],
      "text/plain": [
       "   start    end  quality  regularity       ta    tbs\n",
       "2  78180  22200       86          96  28430.8  203.1\n",
       "3  83460  22380       77          92  23132.5  168.9\n",
       "4  83520  22800       78          94  22614.6  171.3"
      ]
     },
     "execution_count": 120,
     "metadata": {},
     "output_type": "execute_result"
    }
   ],
   "source": [
    "df2.head(3)\n"
   ]
  },
  {
   "cell_type": "code",
   "execution_count": 125,
   "metadata": {},
   "outputs": [
    {
     "data": {
      "text/plain": [
       "5460"
      ]
     },
     "execution_count": 125,
     "metadata": {},
     "output_type": "execute_result"
    }
   ],
   "source": [
    "df2.size"
   ]
  },
  {
   "cell_type": "code",
   "execution_count": 146,
   "metadata": {},
   "outputs": [],
   "source": [
    "df2 = df2[df2.ta > 0]\n"
   ]
  },
  {
   "cell_type": "code",
   "execution_count": 142,
   "metadata": {},
   "outputs": [
    {
     "data": {
      "text/plain": [
       "5448"
      ]
     },
     "execution_count": 142,
     "metadata": {},
     "output_type": "execute_result"
    }
   ],
   "source": [
    "df2.size"
   ]
  },
  {
   "cell_type": "markdown",
   "metadata": {},
   "source": [
    "## Feature Correlation"
   ]
  },
  {
   "cell_type": "code",
   "execution_count": 131,
   "metadata": {},
   "outputs": [
    {
     "data": {
      "image/png": "[encoded data removed]",
      "text/plain": [
       "<Figure size 1080x720 with 2 Axes>"
      ]
     },
     "metadata": {
      "needs_background": "light"
     },
     "output_type": "display_data"
    }
   ],
   "source": [
    "# Matrix Correlation\n",
    "import seaborn as sns\n",
    "plt.figure(figsize = (15,10))\n",
    "sns.heatmap(df2.corr(), vmin = -1, vmax = 1, annot = True);"
   ]
  },
  {
   "cell_type": "markdown",
   "metadata": {},
   "source": [
    "## Normalisasi Data"
   ]
  },
  {
   "cell_type": "code",
   "execution_count": 148,
   "metadata": {},
   "outputs": [
    {
     "data": {
      "text/html": [
       "<div>\n",
       "<style scoped>\n",
       "    .dataframe tbody tr th:only-of-type {\n",
       "        vertical-align: middle;\n",
       "    }\n",
       "\n",
       "    .dataframe tbody tr th {\n",
       "        vertical-align: top;\n",
       "    }\n",
       "\n",
       "    .dataframe thead th {\n",
       "        text-align: right;\n",
       "    }\n",
       "</style>\n",
       "<table border=\"1\" class=\"dataframe\">\n",
       "  <thead>\n",
       "    <tr style=\"text-align: right;\">\n",
       "      <th></th>\n",
       "      <th>start</th>\n",
       "      <th>end</th>\n",
       "      <th>quality</th>\n",
       "      <th>regularity</th>\n",
       "      <th>ta</th>\n",
       "      <th>tbs</th>\n",
       "    </tr>\n",
       "  </thead>\n",
       "  <tbody>\n",
       "    <tr>\n",
       "      <th>0</th>\n",
       "      <td>0.546980</td>\n",
       "      <td>0.226935</td>\n",
       "      <td>0.849462</td>\n",
       "      <td>0.948718</td>\n",
       "      <td>0.596506</td>\n",
       "      <td>0.025976</td>\n",
       "    </tr>\n",
       "    <tr>\n",
       "      <th>1</th>\n",
       "      <td>0.694631</td>\n",
       "      <td>0.229167</td>\n",
       "      <td>0.752688</td>\n",
       "      <td>0.897436</td>\n",
       "      <td>0.473206</td>\n",
       "      <td>0.019891</td>\n",
       "    </tr>\n",
       "    <tr>\n",
       "      <th>2</th>\n",
       "      <td>0.696309</td>\n",
       "      <td>0.234375</td>\n",
       "      <td>0.763441</td>\n",
       "      <td>0.923077</td>\n",
       "      <td>0.461154</td>\n",
       "      <td>0.020318</td>\n",
       "    </tr>\n",
       "    <tr>\n",
       "      <th>3</th>\n",
       "      <td>0.919463</td>\n",
       "      <td>0.340774</td>\n",
       "      <td>0.698925</td>\n",
       "      <td>0.743590</td>\n",
       "      <td>0.417990</td>\n",
       "      <td>0.021012</td>\n",
       "    </tr>\n",
       "    <tr>\n",
       "      <th>4</th>\n",
       "      <td>0.644295</td>\n",
       "      <td>0.235863</td>\n",
       "      <td>0.709677</td>\n",
       "      <td>0.461538</td>\n",
       "      <td>0.506547</td>\n",
       "      <td>0.022702</td>\n",
       "    </tr>\n",
       "  </tbody>\n",
       "</table>\n",
       "</div>"
      ],
      "text/plain": [
       "      start       end   quality  regularity        ta       tbs\n",
       "0  0.546980  0.226935  0.849462    0.948718  0.596506  0.025976\n",
       "1  0.694631  0.229167  0.752688    0.897436  0.473206  0.019891\n",
       "2  0.696309  0.234375  0.763441    0.923077  0.461154  0.020318\n",
       "3  0.919463  0.340774  0.698925    0.743590  0.417990  0.021012\n",
       "4  0.644295  0.235863  0.709677    0.461538  0.506547  0.022702"
      ]
     },
     "execution_count": 148,
     "metadata": {},
     "output_type": "execute_result"
    }
   ],
   "source": [
    "# MinMaxScale Normalization\n",
    "from sklearn.preprocessing import MinMaxScaler\n",
    "\n",
    "MMScaler = MinMaxScaler()\n",
    "df_norm = MMScaler.fit_transform(df2)\n",
    "df_norm = pd.DataFrame(df_norm, columns=df2.columns)\n",
    "df_norm.head(5)"
   ]
  },
  {
   "cell_type": "code",
   "execution_count": 149,
   "metadata": {},
   "outputs": [
    {
     "data": {
      "image/png": "[encoded data removed]",
      "text/plain": [
       "<Figure size 1080x720 with 2 Axes>"
      ]
     },
     "metadata": {
      "needs_background": "light"
     },
     "output_type": "display_data"
    }
   ],
   "source": [
    "plt.figure(figsize = (15,10))\n",
    "sns.heatmap(df_norm.corr(), vmin = -1, vmax = 1, annot = True);"
   ]
  },
  {
   "cell_type": "markdown",
   "metadata": {},
   "source": [
    "Dari heatmap di atas sebenrnya keliatan bahwa  kualitas tidur palign berpengaruh sama durasi tidurnya, hmm"
   ]
  },
  {
   "cell_type": "markdown",
   "metadata": {},
   "source": [
    "## Things to take in consideration\n",
    "1. Start time normalisasinya masih min max, mungkin lebih baik di setting minnya jam 6 malem dan maxnya 6 pagi jadi variancenya gaterlalu besar\n",
    "2. end time juga mungkin sebaiknya gitu meskipun blm tau waktu yang bagusnya gimana\n",
    "3. Quality mungkin dijadiin categorical biar lebih 'gampang' groupingnya"
   ]
  },
  {
   "cell_type": "code",
   "execution_count": 150,
   "metadata": {},
   "outputs": [],
   "source": [
    "df_norm.to_csv('sleepdata_extracted.csv')"
   ]
  }
 ],
 "metadata": {
  "kernelspec": {
   "display_name": "Python 3.8.3 ('base')",
   "language": "python",
   "name": "python3"
  },
  "language_info": {
   "codemirror_mode": {
    "name": "ipython",
    "version": 3
   },
   "file_extension": ".py",
   "mimetype": "text/x-python",
   "name": "python",
   "nbconvert_exporter": "python",
   "pygments_lexer": "ipython3",
   "version": "3.8.3"
  },
  "orig_nbformat": 4,
  "vscode": {
   "interpreter": {
    "hash": "e26da9777431fcd98778416b583e2cb3f0c4f5515b7897587b203af2bddddd45"
   }
  }
 },
 "nbformat": 4,
 "nbformat_minor": 2
}
